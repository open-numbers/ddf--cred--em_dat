{
 "cells": [
  {
   "cell_type": "code",
   "execution_count": 1,
   "metadata": {
    "collapsed": false
   },
   "outputs": [],
   "source": [
    "import pandas as pd\n",
    "import numpy as np\n",
    "import os\n",
    "from ddf_utils.str import to_concept_id\n",
    "from ddf_utils.index import create_index_file"
   ]
  },
  {
   "cell_type": "markdown",
   "metadata": {},
   "source": [
    "# Reading Soure data"
   ]
  },
  {
   "cell_type": "code",
   "execution_count": 2,
   "metadata": {
    "collapsed": true
   },
   "outputs": [],
   "source": [
    "source = 'source/Data.csv'"
   ]
  },
  {
   "cell_type": "code",
   "execution_count": 3,
   "metadata": {
    "collapsed": false
   },
   "outputs": [],
   "source": [
    "# before reading into python, you can open the source file with desktop spreadsheet programmes like Excel\n",
    "# see if there are empty rows and columns we could drop and provide the correct options to pandas.\n",
    "\n",
    "# sometimes the file is not encoded in UTF8, and pandas will fail to read it. \n",
    "# In this case can try 'iso-8859-1' encoding.\n",
    "\n",
    "data = pd.read_csv(source, encoding='iso-8859-1', skiprows=1)"
   ]
  },
  {
   "cell_type": "markdown",
   "metadata": {},
   "source": [
    "# explore source data\n",
    "\n",
    "usually the data will be in one of these two forms:\n",
    "\n",
    "1. country/time/other entity concepts as columns, and each measure type takes one column too, just like what we will deal with in this dataset. An example of this form of data:\n",
    "\n",
    "    ```\n",
    "    | country | age group | year | measure 1 | measure 2 | ... |\n",
    "    | afg     |       15+ | 1990 |       1.2 |       2.3 | ... |\n",
    "    | ...     |           |      |           |           |     |\n",
    "    | zwe     |       65+ | 2016 |        20 |     15.23 | ... |\n",
    "```\n",
    "2. country/measure type/entity type/ as columns, and each year takes one column. The format will be\n",
    "\n",
    "    ```\n",
    "    | country | age group | indicator  | 1990 | ... |  2016 |\n",
    "    | afg     |       15+ | measure 1  |  1.2 | ... |    20 |\n",
    "    | afg     |       15+ | measure 2  |  2.3 | ... |    99 |\n",
    "    | ...     |           |            |      |     |       |\n",
    "    | zwe     |       65+ | measure 20 |   20 | ... | 15.23 |\n",
    "\n",
    "    ```\n",
    "    \n",
    "So we need to see what is the source format and decide what is the best way to extract the data. Sometimes there will be a codebook provided together with source data, in which we can find more details of the data. But in this dataset we just look at the data and find out what we need."
   ]
  },
  {
   "cell_type": "code",
   "execution_count": 6,
   "metadata": {
    "collapsed": false
   },
   "outputs": [
    {
     "data": {
      "text/html": [
       "<div>\n",
       "<table border=\"1\" class=\"dataframe\">\n",
       "  <thead>\n",
       "    <tr style=\"text-align: right;\">\n",
       "      <th></th>\n",
       "      <th>year</th>\n",
       "      <th>disaster type</th>\n",
       "      <th>iso</th>\n",
       "      <th>country_name</th>\n",
       "      <th>occurrence</th>\n",
       "      <th>Total deaths</th>\n",
       "      <th>Affected</th>\n",
       "      <th>Injured</th>\n",
       "      <th>Homeless</th>\n",
       "      <th>Total affected</th>\n",
       "      <th>Total damage</th>\n",
       "    </tr>\n",
       "  </thead>\n",
       "  <tbody>\n",
       "    <tr>\n",
       "      <th>0</th>\n",
       "      <td>1900</td>\n",
       "      <td>Drought</td>\n",
       "      <td>CPV</td>\n",
       "      <td>Cabo Verde</td>\n",
       "      <td>1</td>\n",
       "      <td>11000.0</td>\n",
       "      <td>NaN</td>\n",
       "      <td>NaN</td>\n",
       "      <td>NaN</td>\n",
       "      <td>NaN</td>\n",
       "      <td>NaN</td>\n",
       "    </tr>\n",
       "    <tr>\n",
       "      <th>1</th>\n",
       "      <td>1900</td>\n",
       "      <td>Drought</td>\n",
       "      <td>IND</td>\n",
       "      <td>India</td>\n",
       "      <td>1</td>\n",
       "      <td>1250000.0</td>\n",
       "      <td>NaN</td>\n",
       "      <td>NaN</td>\n",
       "      <td>NaN</td>\n",
       "      <td>NaN</td>\n",
       "      <td>NaN</td>\n",
       "    </tr>\n",
       "    <tr>\n",
       "      <th>2</th>\n",
       "      <td>1900</td>\n",
       "      <td>Epidemic</td>\n",
       "      <td>JAM</td>\n",
       "      <td>Jamaica</td>\n",
       "      <td>1</td>\n",
       "      <td>30.0</td>\n",
       "      <td>NaN</td>\n",
       "      <td>NaN</td>\n",
       "      <td>NaN</td>\n",
       "      <td>NaN</td>\n",
       "      <td>NaN</td>\n",
       "    </tr>\n",
       "    <tr>\n",
       "      <th>3</th>\n",
       "      <td>1900</td>\n",
       "      <td>Flood</td>\n",
       "      <td>JAM</td>\n",
       "      <td>Jamaica</td>\n",
       "      <td>1</td>\n",
       "      <td>300.0</td>\n",
       "      <td>NaN</td>\n",
       "      <td>NaN</td>\n",
       "      <td>NaN</td>\n",
       "      <td>NaN</td>\n",
       "      <td>NaN</td>\n",
       "    </tr>\n",
       "    <tr>\n",
       "      <th>4</th>\n",
       "      <td>1900</td>\n",
       "      <td>Storm</td>\n",
       "      <td>USA</td>\n",
       "      <td>United States of America (the)</td>\n",
       "      <td>1</td>\n",
       "      <td>6000.0</td>\n",
       "      <td>NaN</td>\n",
       "      <td>NaN</td>\n",
       "      <td>NaN</td>\n",
       "      <td>NaN</td>\n",
       "      <td>30000.0</td>\n",
       "    </tr>\n",
       "    <tr>\n",
       "      <th>5</th>\n",
       "      <td>1900</td>\n",
       "      <td>Volcanic activity</td>\n",
       "      <td>JPN</td>\n",
       "      <td>Japan</td>\n",
       "      <td>1</td>\n",
       "      <td>30.0</td>\n",
       "      <td>NaN</td>\n",
       "      <td>NaN</td>\n",
       "      <td>NaN</td>\n",
       "      <td>NaN</td>\n",
       "      <td>NaN</td>\n",
       "    </tr>\n",
       "    <tr>\n",
       "      <th>6</th>\n",
       "      <td>1901</td>\n",
       "      <td>Earthquake</td>\n",
       "      <td>JPN</td>\n",
       "      <td>Japan</td>\n",
       "      <td>1</td>\n",
       "      <td>18.0</td>\n",
       "      <td>NaN</td>\n",
       "      <td>NaN</td>\n",
       "      <td>NaN</td>\n",
       "      <td>NaN</td>\n",
       "      <td>NaN</td>\n",
       "    </tr>\n",
       "    <tr>\n",
       "      <th>...</th>\n",
       "      <td>...</td>\n",
       "      <td>...</td>\n",
       "      <td>...</td>\n",
       "      <td>...</td>\n",
       "      <td>...</td>\n",
       "      <td>...</td>\n",
       "      <td>...</td>\n",
       "      <td>...</td>\n",
       "      <td>...</td>\n",
       "      <td>...</td>\n",
       "      <td>...</td>\n",
       "    </tr>\n",
       "    <tr>\n",
       "      <th>12509</th>\n",
       "      <td>2015</td>\n",
       "      <td>Wildfire</td>\n",
       "      <td>AUS</td>\n",
       "      <td>Australia</td>\n",
       "      <td>3</td>\n",
       "      <td>2.0</td>\n",
       "      <td>NaN</td>\n",
       "      <td>164.0</td>\n",
       "      <td>453.0</td>\n",
       "      <td>617.0</td>\n",
       "      <td>351000.0</td>\n",
       "    </tr>\n",
       "    <tr>\n",
       "      <th>12510</th>\n",
       "      <td>2015</td>\n",
       "      <td>Wildfire</td>\n",
       "      <td>CAN</td>\n",
       "      <td>Canada</td>\n",
       "      <td>1</td>\n",
       "      <td>NaN</td>\n",
       "      <td>13000.0</td>\n",
       "      <td>NaN</td>\n",
       "      <td>36.0</td>\n",
       "      <td>13036.0</td>\n",
       "      <td>NaN</td>\n",
       "    </tr>\n",
       "    <tr>\n",
       "      <th>12511</th>\n",
       "      <td>2015</td>\n",
       "      <td>Wildfire</td>\n",
       "      <td>CHL</td>\n",
       "      <td>Chile</td>\n",
       "      <td>1</td>\n",
       "      <td>1.0</td>\n",
       "      <td>NaN</td>\n",
       "      <td>32.0</td>\n",
       "      <td>NaN</td>\n",
       "      <td>32.0</td>\n",
       "      <td>NaN</td>\n",
       "    </tr>\n",
       "    <tr>\n",
       "      <th>12512</th>\n",
       "      <td>2015</td>\n",
       "      <td>Wildfire</td>\n",
       "      <td>COD</td>\n",
       "      <td>Congo (the Democratic Republic of the)</td>\n",
       "      <td>1</td>\n",
       "      <td>3.0</td>\n",
       "      <td>57003.0</td>\n",
       "      <td>NaN</td>\n",
       "      <td>NaN</td>\n",
       "      <td>57003.0</td>\n",
       "      <td>NaN</td>\n",
       "    </tr>\n",
       "    <tr>\n",
       "      <th>12513</th>\n",
       "      <td>2015</td>\n",
       "      <td>Wildfire</td>\n",
       "      <td>IDN</td>\n",
       "      <td>Indonesia</td>\n",
       "      <td>1</td>\n",
       "      <td>19.0</td>\n",
       "      <td>409664.0</td>\n",
       "      <td>NaN</td>\n",
       "      <td>NaN</td>\n",
       "      <td>409664.0</td>\n",
       "      <td>1000000.0</td>\n",
       "    </tr>\n",
       "    <tr>\n",
       "      <th>12514</th>\n",
       "      <td>2015</td>\n",
       "      <td>Wildfire</td>\n",
       "      <td>RUS</td>\n",
       "      <td>Russian Federation (the)</td>\n",
       "      <td>1</td>\n",
       "      <td>30.0</td>\n",
       "      <td>5000.0</td>\n",
       "      <td>977.0</td>\n",
       "      <td>NaN</td>\n",
       "      <td>5977.0</td>\n",
       "      <td>136820.0</td>\n",
       "    </tr>\n",
       "    <tr>\n",
       "      <th>12515</th>\n",
       "      <td>2015</td>\n",
       "      <td>Wildfire</td>\n",
       "      <td>USA</td>\n",
       "      <td>United States of America (the)</td>\n",
       "      <td>3</td>\n",
       "      <td>9.0</td>\n",
       "      <td>600.0</td>\n",
       "      <td>8.0</td>\n",
       "      <td>7431.0</td>\n",
       "      <td>8039.0</td>\n",
       "      <td>1550000.0</td>\n",
       "    </tr>\n",
       "  </tbody>\n",
       "</table>\n",
       "<p>12516 rows × 11 columns</p>\n",
       "</div>"
      ],
      "text/plain": [
       "       year      disaster type  iso                            country_name  \\\n",
       "0      1900            Drought  CPV                              Cabo Verde   \n",
       "1      1900            Drought  IND                                   India   \n",
       "2      1900           Epidemic  JAM                                 Jamaica   \n",
       "3      1900              Flood  JAM                                 Jamaica   \n",
       "4      1900              Storm  USA          United States of America (the)   \n",
       "5      1900  Volcanic activity  JPN                                   Japan   \n",
       "6      1901         Earthquake  JPN                                   Japan   \n",
       "...     ...                ...  ...                                     ...   \n",
       "12509  2015           Wildfire  AUS                               Australia   \n",
       "12510  2015           Wildfire  CAN                                  Canada   \n",
       "12511  2015           Wildfire  CHL                                   Chile   \n",
       "12512  2015           Wildfire  COD  Congo (the Democratic Republic of the)   \n",
       "12513  2015           Wildfire  IDN                               Indonesia   \n",
       "12514  2015           Wildfire  RUS                Russian Federation (the)   \n",
       "12515  2015           Wildfire  USA          United States of America (the)   \n",
       "\n",
       "       occurrence  Total deaths  Affected  Injured  Homeless  Total affected  \\\n",
       "0               1       11000.0       NaN      NaN       NaN             NaN   \n",
       "1               1     1250000.0       NaN      NaN       NaN             NaN   \n",
       "2               1          30.0       NaN      NaN       NaN             NaN   \n",
       "3               1         300.0       NaN      NaN       NaN             NaN   \n",
       "4               1        6000.0       NaN      NaN       NaN             NaN   \n",
       "5               1          30.0       NaN      NaN       NaN             NaN   \n",
       "6               1          18.0       NaN      NaN       NaN             NaN   \n",
       "...           ...           ...       ...      ...       ...             ...   \n",
       "12509           3           2.0       NaN    164.0     453.0           617.0   \n",
       "12510           1           NaN   13000.0      NaN      36.0         13036.0   \n",
       "12511           1           1.0       NaN     32.0       NaN            32.0   \n",
       "12512           1           3.0   57003.0      NaN       NaN         57003.0   \n",
       "12513           1          19.0  409664.0      NaN       NaN        409664.0   \n",
       "12514           1          30.0    5000.0    977.0       NaN          5977.0   \n",
       "12515           3           9.0     600.0      8.0    7431.0          8039.0   \n",
       "\n",
       "       Total damage  \n",
       "0               NaN  \n",
       "1               NaN  \n",
       "2               NaN  \n",
       "3               NaN  \n",
       "4           30000.0  \n",
       "5               NaN  \n",
       "6               NaN  \n",
       "...             ...  \n",
       "12509      351000.0  \n",
       "12510           NaN  \n",
       "12511           NaN  \n",
       "12512           NaN  \n",
       "12513     1000000.0  \n",
       "12514      136820.0  \n",
       "12515     1550000.0  \n",
       "\n",
       "[12516 rows x 11 columns]"
      ]
     },
     "execution_count": 6,
     "metadata": {},
     "output_type": "execute_result"
    }
   ],
   "source": [
    "pd.set_option('max_rows', 15)\n",
    "\n",
    "data"
   ]
  },
  {
   "cell_type": "code",
   "execution_count": 7,
   "metadata": {
    "collapsed": false
   },
   "outputs": [
    {
     "data": {
      "text/plain": [
       "Index(['year', 'disaster type', 'iso', ' country_name', 'occurrence',\n",
       "       'Total deaths', 'Affected', 'Injured', 'Homeless', 'Total affected',\n",
       "       'Total damage'],\n",
       "      dtype='object')"
      ]
     },
     "execution_count": 7,
     "metadata": {},
     "output_type": "execute_result"
    }
   ],
   "source": [
    "data.columns"
   ]
  },
  {
   "cell_type": "markdown",
   "metadata": {
    "collapsed": true
   },
   "source": [
    "We can see in above table that:\n",
    "\n",
    "1. there are 2 entity domains: disaster type and country\n",
    "2. measure type concepts are 'occurrence', 'Total deaths', 'Affected', 'Injured', 'Homeless', 'Total affected', 'Total damage'. Their units are all numbers of people, so we should assume they are integer, not floating point numbers. Here they displayed as folating point, because there are n/a values, which are treated as floating point in pandas.\n",
    "3. N/A values are in measures, which we should drop them later"
   ]
  },
  {
   "cell_type": "code",
   "execution_count": 9,
   "metadata": {
    "collapsed": false
   },
   "outputs": [],
   "source": [
    "data.columns = list(map(str.strip, data.columns))  # remove spaces in beginning and end of column names"
   ]
  },
  {
   "cell_type": "markdown",
   "metadata": {},
   "source": [
    "# extract entities"
   ]
  },
  {
   "cell_type": "code",
   "execution_count": 10,
   "metadata": {
    "collapsed": false
   },
   "outputs": [],
   "source": [
    "# country\n",
    "\n",
    "country = data[['iso', 'country_name']].copy()  # we should call .copy() to avoid overwriting the source data"
   ]
  },
  {
   "cell_type": "code",
   "execution_count": 11,
   "metadata": {
    "collapsed": true
   },
   "outputs": [],
   "source": [
    "country.columns = ['country', 'name']  # rename column names to match DDF model"
   ]
  },
  {
   "cell_type": "code",
   "execution_count": 12,
   "metadata": {
    "collapsed": false
   },
   "outputs": [],
   "source": [
    "country['country'] = country['country'].map(to_concept_id)  # to_concept_id() makes a string to alphanumberic form"
   ]
  },
  {
   "cell_type": "code",
   "execution_count": 14,
   "metadata": {
    "collapsed": true
   },
   "outputs": [],
   "source": [
    "country = country.drop_duplicates()"
   ]
  },
  {
   "cell_type": "code",
   "execution_count": 15,
   "metadata": {
    "collapsed": false
   },
   "outputs": [
    {
     "data": {
      "text/html": [
       "<div>\n",
       "<table border=\"1\" class=\"dataframe\">\n",
       "  <thead>\n",
       "    <tr style=\"text-align: right;\">\n",
       "      <th></th>\n",
       "      <th>country</th>\n",
       "      <th>name</th>\n",
       "    </tr>\n",
       "  </thead>\n",
       "  <tbody>\n",
       "    <tr>\n",
       "      <th>0</th>\n",
       "      <td>cpv</td>\n",
       "      <td>Cabo Verde</td>\n",
       "    </tr>\n",
       "    <tr>\n",
       "      <th>1</th>\n",
       "      <td>ind</td>\n",
       "      <td>India</td>\n",
       "    </tr>\n",
       "    <tr>\n",
       "      <th>2</th>\n",
       "      <td>jam</td>\n",
       "      <td>Jamaica</td>\n",
       "    </tr>\n",
       "    <tr>\n",
       "      <th>4</th>\n",
       "      <td>usa</td>\n",
       "      <td>United States of America (the)</td>\n",
       "    </tr>\n",
       "    <tr>\n",
       "      <th>5</th>\n",
       "      <td>jpn</td>\n",
       "      <td>Japan</td>\n",
       "    </tr>\n",
       "    <tr>\n",
       "      <th>7</th>\n",
       "      <td>tza</td>\n",
       "      <td>Tanzania, United Republic of</td>\n",
       "    </tr>\n",
       "    <tr>\n",
       "      <th>8</th>\n",
       "      <td>uga</td>\n",
       "      <td>Uganda</td>\n",
       "    </tr>\n",
       "    <tr>\n",
       "      <th>...</th>\n",
       "      <td>...</td>\n",
       "      <td>...</td>\n",
       "    </tr>\n",
       "    <tr>\n",
       "      <th>7659</th>\n",
       "      <td>shn</td>\n",
       "      <td>Saint Helena, Ascension and Tristan da Cunha</td>\n",
       "    </tr>\n",
       "    <tr>\n",
       "      <th>8037</th>\n",
       "      <td>mnp</td>\n",
       "      <td>Northern Mariana Islands (the)</td>\n",
       "    </tr>\n",
       "    <tr>\n",
       "      <th>9676</th>\n",
       "      <td>srb</td>\n",
       "      <td>Serbia</td>\n",
       "    </tr>\n",
       "    <tr>\n",
       "      <th>9733</th>\n",
       "      <td>mne</td>\n",
       "      <td>Montenegro</td>\n",
       "    </tr>\n",
       "    <tr>\n",
       "      <th>10105</th>\n",
       "      <td>ssd</td>\n",
       "      <td>South Sudan</td>\n",
       "    </tr>\n",
       "    <tr>\n",
       "      <th>10264</th>\n",
       "      <td>myt</td>\n",
       "      <td>Mayotte</td>\n",
       "    </tr>\n",
       "    <tr>\n",
       "      <th>10620</th>\n",
       "      <td>qat</td>\n",
       "      <td>Qatar</td>\n",
       "    </tr>\n",
       "  </tbody>\n",
       "</table>\n",
       "<p>226 rows × 2 columns</p>\n",
       "</div>"
      ],
      "text/plain": [
       "      country                                          name\n",
       "0         cpv                                    Cabo Verde\n",
       "1         ind                                         India\n",
       "2         jam                                       Jamaica\n",
       "4         usa                United States of America (the)\n",
       "5         jpn                                         Japan\n",
       "7         tza                  Tanzania, United Republic of\n",
       "8         uga                                        Uganda\n",
       "...       ...                                           ...\n",
       "7659      shn  Saint Helena, Ascension and Tristan da Cunha\n",
       "8037      mnp                Northern Mariana Islands (the)\n",
       "9676      srb                                        Serbia\n",
       "9733      mne                                    Montenegro\n",
       "10105     ssd                                   South Sudan\n",
       "10264     myt                                       Mayotte\n",
       "10620     qat                                         Qatar\n",
       "\n",
       "[226 rows x 2 columns]"
      ]
     },
     "execution_count": 15,
     "metadata": {},
     "output_type": "execute_result"
    }
   ],
   "source": [
    "country"
   ]
  },
  {
   "cell_type": "code",
   "execution_count": 16,
   "metadata": {
    "collapsed": false
   },
   "outputs": [],
   "source": [
    "country.to_csv('../ddf--entities--country.csv', index=False)  # note: the index is not needed so index=False"
   ]
  },
  {
   "cell_type": "code",
   "execution_count": null,
   "metadata": {
    "collapsed": true
   },
   "outputs": [],
   "source": []
  },
  {
   "cell_type": "code",
   "execution_count": null,
   "metadata": {
    "collapsed": true
   },
   "outputs": [],
   "source": [
    "# disaster type, basically same process as country"
   ]
  },
  {
   "cell_type": "code",
   "execution_count": 17,
   "metadata": {
    "collapsed": true
   },
   "outputs": [],
   "source": [
    "disas = data[['disaster type']].copy()"
   ]
  },
  {
   "cell_type": "code",
   "execution_count": 18,
   "metadata": {
    "collapsed": true
   },
   "outputs": [],
   "source": [
    "disas['disaster'] = disas['disaster type'].map(to_concept_id)"
   ]
  },
  {
   "cell_type": "code",
   "execution_count": 19,
   "metadata": {
    "collapsed": true
   },
   "outputs": [],
   "source": [
    "disas.columns = ['name', 'disaster']"
   ]
  },
  {
   "cell_type": "code",
   "execution_count": 20,
   "metadata": {
    "collapsed": true
   },
   "outputs": [],
   "source": [
    "disas.drop_duplicates()[['disaster', 'name']].to_csv('../ddf--entities--disaster.csv', index=False)"
   ]
  },
  {
   "cell_type": "code",
   "execution_count": null,
   "metadata": {
    "collapsed": true
   },
   "outputs": [],
   "source": []
  },
  {
   "cell_type": "markdown",
   "metadata": {
    "collapsed": true
   },
   "source": [
    "# extract concepts"
   ]
  },
  {
   "cell_type": "code",
   "execution_count": null,
   "metadata": {
    "collapsed": true
   },
   "outputs": [],
   "source": []
  },
  {
   "cell_type": "code",
   "execution_count": null,
   "metadata": {
    "collapsed": true
   },
   "outputs": [],
   "source": [
    "# concept"
   ]
  },
  {
   "cell_type": "code",
   "execution_count": 21,
   "metadata": {
    "collapsed": true
   },
   "outputs": [],
   "source": [
    "concs = data.columns[4:]   # all measure types"
   ]
  },
  {
   "cell_type": "code",
   "execution_count": 22,
   "metadata": {
    "collapsed": false
   },
   "outputs": [],
   "source": [
    "concs = [*['Year', 'Name', 'disaster', 'country'], *concs]  # manually add discrete types"
   ]
  },
  {
   "cell_type": "code",
   "execution_count": 23,
   "metadata": {
    "collapsed": false
   },
   "outputs": [
    {
     "data": {
      "text/plain": [
       "['Year',\n",
       " 'Name',\n",
       " 'disaster',\n",
       " 'country',\n",
       " 'occurrence',\n",
       " 'Total deaths',\n",
       " 'Affected',\n",
       " 'Injured',\n",
       " 'Homeless',\n",
       " 'Total affected',\n",
       " 'Total damage']"
      ]
     },
     "execution_count": 23,
     "metadata": {},
     "output_type": "execute_result"
    }
   ],
   "source": [
    "concs"
   ]
  },
  {
   "cell_type": "code",
   "execution_count": 24,
   "metadata": {
    "collapsed": true
   },
   "outputs": [],
   "source": [
    "# construct the concepts DataFrame"
   ]
  },
  {
   "cell_type": "code",
   "execution_count": 25,
   "metadata": {
    "collapsed": false
   },
   "outputs": [],
   "source": [
    "con = pd.DataFrame([], columns=['concept', 'name', 'concept_type'])"
   ]
  },
  {
   "cell_type": "code",
   "execution_count": 26,
   "metadata": {
    "collapsed": true
   },
   "outputs": [],
   "source": [
    "con['name'] = concs"
   ]
  },
  {
   "cell_type": "code",
   "execution_count": 27,
   "metadata": {
    "collapsed": true
   },
   "outputs": [],
   "source": [
    "con['concept'] = con['name'].map(to_concept_id)"
   ]
  },
  {
   "cell_type": "code",
   "execution_count": 28,
   "metadata": {
    "collapsed": false
   },
   "outputs": [],
   "source": [
    "# setting the concept_type of concepts.\n",
    "\n",
    "con['concept_type'] = 'measure'\n",
    "\n",
    "con['concept_type'].iloc[0] = 'time'\n",
    "con['concept_type'].iloc[1] = 'string'\n",
    "con['concept_type'].iloc[2] = 'entity_domain'\n",
    "con['concept_type'].iloc[3] = 'entity_domain'"
   ]
  },
  {
   "cell_type": "code",
   "execution_count": 29,
   "metadata": {
    "collapsed": false
   },
   "outputs": [],
   "source": [
    "con.to_csv('../ddf--concepts.csv', index=False)"
   ]
  },
  {
   "cell_type": "code",
   "execution_count": null,
   "metadata": {
    "collapsed": true
   },
   "outputs": [],
   "source": []
  },
  {
   "cell_type": "code",
   "execution_count": null,
   "metadata": {
    "collapsed": true
   },
   "outputs": [],
   "source": []
  },
  {
   "cell_type": "markdown",
   "metadata": {},
   "source": [
    "# Datapoints"
   ]
  },
  {
   "cell_type": "markdown",
   "metadata": {
    "collapsed": true
   },
   "source": [
    "target data point format for this dataset should be:\n",
    "\n",
    "```\n",
    "| country | disaster_type | year | measure |\n",
    "| afg     | flood         | 1990 |       1 |\n",
    "| ...     |               |      |         |\n",
    "| zwe     | wildfire      | 2015 |       2 |\n",
    "```\n",
    "\n",
    "because each measure takes one column, we can set country/disaster_type/year as index and iterate each other columns to get datapoints for DDF."
   ]
  },
  {
   "cell_type": "code",
   "execution_count": 30,
   "metadata": {
    "collapsed": true
   },
   "outputs": [],
   "source": [
    "dps = data.drop('country_name', axis=1)"
   ]
  },
  {
   "cell_type": "code",
   "execution_count": 31,
   "metadata": {
    "collapsed": false
   },
   "outputs": [],
   "source": [
    "dps.columns = list(map(to_concept_id, dps.columns))"
   ]
  },
  {
   "cell_type": "code",
   "execution_count": 32,
   "metadata": {
    "collapsed": false
   },
   "outputs": [],
   "source": [
    "dps = dps.rename(columns={'disaster_type': 'disaster', 'iso': 'country'})"
   ]
  },
  {
   "cell_type": "code",
   "execution_count": 33,
   "metadata": {
    "collapsed": false
   },
   "outputs": [],
   "source": [
    "dps['country'] = dps['country'].map(to_concept_id)\n",
    "dps['disaster'] = dps['disaster'].map(to_concept_id)"
   ]
  },
  {
   "cell_type": "code",
   "execution_count": 34,
   "metadata": {
    "collapsed": false
   },
   "outputs": [],
   "source": [
    "# set the index to country/disaster/year\n",
    "\n",
    "dps = dps.sort_values(by=['country', 'disaster', 'year']).set_index(['country', 'disaster', 'year'])"
   ]
  },
  {
   "cell_type": "code",
   "execution_count": 35,
   "metadata": {
    "collapsed": false
   },
   "outputs": [],
   "source": [
    "for name, col in dps.items():  # iterate each column with index.\n",
    "    \n",
    "    df = col.reset_index()\n",
    "    path = os.path.join('../', 'ddf--datapoints--{}--by--country--disaster--year.csv'.format(name))\n",
    "    df = df.dropna()\n",
    "    df[name] = df[name].map(int)  # \n",
    "    \n",
    "    df.to_csv(path, index=False)"
   ]
  },
  {
   "cell_type": "code",
   "execution_count": null,
   "metadata": {
    "collapsed": true
   },
   "outputs": [],
   "source": []
  },
  {
   "cell_type": "code",
   "execution_count": null,
   "metadata": {
    "collapsed": true
   },
   "outputs": [],
   "source": [
    "# And at last, create an index file"
   ]
  },
  {
   "cell_type": "code",
   "execution_count": 36,
   "metadata": {
    "collapsed": false
   },
   "outputs": [
    {
     "data": {
      "text/html": [
       "<div>\n",
       "<table border=\"1\" class=\"dataframe\">\n",
       "  <thead>\n",
       "    <tr style=\"text-align: right;\">\n",
       "      <th></th>\n",
       "      <th>key</th>\n",
       "      <th>value</th>\n",
       "      <th>file</th>\n",
       "    </tr>\n",
       "  </thead>\n",
       "  <tbody>\n",
       "    <tr>\n",
       "      <th>0</th>\n",
       "      <td>concept</td>\n",
       "      <td>name</td>\n",
       "      <td>ddf--concepts.csv</td>\n",
       "    </tr>\n",
       "    <tr>\n",
       "      <th>1</th>\n",
       "      <td>concept</td>\n",
       "      <td>concept_type</td>\n",
       "      <td>ddf--concepts.csv</td>\n",
       "    </tr>\n",
       "    <tr>\n",
       "      <th>0</th>\n",
       "      <td>country,disaster,year</td>\n",
       "      <td>affected</td>\n",
       "      <td>ddf--datapoints--affected--by--country--disast...</td>\n",
       "    </tr>\n",
       "    <tr>\n",
       "      <th>0</th>\n",
       "      <td>country,disaster,year</td>\n",
       "      <td>homeless</td>\n",
       "      <td>ddf--datapoints--homeless--by--country--disast...</td>\n",
       "    </tr>\n",
       "    <tr>\n",
       "      <th>0</th>\n",
       "      <td>country,disaster,year</td>\n",
       "      <td>injured</td>\n",
       "      <td>ddf--datapoints--injured--by--country--disaste...</td>\n",
       "    </tr>\n",
       "    <tr>\n",
       "      <th>0</th>\n",
       "      <td>country,disaster,year</td>\n",
       "      <td>occurrence</td>\n",
       "      <td>ddf--datapoints--occurrence--by--country--disa...</td>\n",
       "    </tr>\n",
       "    <tr>\n",
       "      <th>0</th>\n",
       "      <td>country,disaster,year</td>\n",
       "      <td>total_affected</td>\n",
       "      <td>ddf--datapoints--total_affected--by--country--...</td>\n",
       "    </tr>\n",
       "    <tr>\n",
       "      <th>0</th>\n",
       "      <td>country,disaster,year</td>\n",
       "      <td>total_damage</td>\n",
       "      <td>ddf--datapoints--total_damage--by--country--di...</td>\n",
       "    </tr>\n",
       "    <tr>\n",
       "      <th>0</th>\n",
       "      <td>country,disaster,year</td>\n",
       "      <td>total_deaths</td>\n",
       "      <td>ddf--datapoints--total_deaths--by--country--di...</td>\n",
       "    </tr>\n",
       "    <tr>\n",
       "      <th>0</th>\n",
       "      <td>country</td>\n",
       "      <td>name</td>\n",
       "      <td>ddf--entities--country.csv</td>\n",
       "    </tr>\n",
       "    <tr>\n",
       "      <th>0</th>\n",
       "      <td>disaster</td>\n",
       "      <td>name</td>\n",
       "      <td>ddf--entities--disaster.csv</td>\n",
       "    </tr>\n",
       "  </tbody>\n",
       "</table>\n",
       "</div>"
      ],
      "text/plain": [
       "                     key           value  \\\n",
       "0                concept            name   \n",
       "1                concept    concept_type   \n",
       "0  country,disaster,year        affected   \n",
       "0  country,disaster,year        homeless   \n",
       "0  country,disaster,year         injured   \n",
       "0  country,disaster,year      occurrence   \n",
       "0  country,disaster,year  total_affected   \n",
       "0  country,disaster,year    total_damage   \n",
       "0  country,disaster,year    total_deaths   \n",
       "0                country            name   \n",
       "0               disaster            name   \n",
       "\n",
       "                                                file  \n",
       "0                                  ddf--concepts.csv  \n",
       "1                                  ddf--concepts.csv  \n",
       "0  ddf--datapoints--affected--by--country--disast...  \n",
       "0  ddf--datapoints--homeless--by--country--disast...  \n",
       "0  ddf--datapoints--injured--by--country--disaste...  \n",
       "0  ddf--datapoints--occurrence--by--country--disa...  \n",
       "0  ddf--datapoints--total_affected--by--country--...  \n",
       "0  ddf--datapoints--total_damage--by--country--di...  \n",
       "0  ddf--datapoints--total_deaths--by--country--di...  \n",
       "0                         ddf--entities--country.csv  \n",
       "0                        ddf--entities--disaster.csv  "
      ]
     },
     "execution_count": 36,
     "metadata": {},
     "output_type": "execute_result"
    }
   ],
   "source": [
    "create_index_file('../')"
   ]
  },
  {
   "cell_type": "code",
   "execution_count": null,
   "metadata": {
    "collapsed": true
   },
   "outputs": [],
   "source": []
  },
  {
   "cell_type": "markdown",
   "metadata": {
    "collapsed": true
   },
   "source": [
    "# Validation\n",
    "\n",
    "after we finish creating all DDF files, we can run the validation tool to check our dataset"
   ]
  },
  {
   "cell_type": "code",
   "execution_count": 44,
   "metadata": {
    "collapsed": false
   },
   "outputs": [
    {
     "name": "stdout",
     "output_type": "stream",
     "text": [
      "[\n",
      "{}]\n",
      "\n"
     ]
    }
   ],
   "source": [
    "!validate-ddf --exclude-rules \"NON_DDF_FOLDER\" ../   # no output means they passed all tests by validation tool."
   ]
  },
  {
   "cell_type": "code",
   "execution_count": null,
   "metadata": {
    "collapsed": true
   },
   "outputs": [],
   "source": []
  }
 ],
 "metadata": {
  "kernelspec": {
   "display_name": "Python 3",
   "language": "python",
   "name": "python3"
  },
  "language_info": {
   "codemirror_mode": {
    "name": "ipython",
    "version": 3
   },
   "file_extension": ".py",
   "mimetype": "text/x-python",
   "name": "python",
   "nbconvert_exporter": "python",
   "pygments_lexer": "ipython3",
   "version": "3.5.1"
  }
 },
 "nbformat": 4,
 "nbformat_minor": 0
}
